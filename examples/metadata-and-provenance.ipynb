{
 "cells": [
  {
   "cell_type": "markdown",
   "metadata": {},
   "source": [
    "# Tutorial to Koalas - Metadata and adding provenance information"
   ]
  },
  {
   "cell_type": "markdown",
   "metadata": {},
   "source": [
    "## Metadata\n",
    "\n",
    "Koalas automatically records metadata for each column in a WordFrame. Each event that modifies a column is described by the operation applied, its parameters, the user who apllied the changes and a timestamp. First we import koalas under the abbreviation kl and create a test WordFrame by passing a dictionary into the constructor:"
   ]
  },
  {
   "cell_type": "code",
   "execution_count": 1,
   "metadata": {},
   "outputs": [
    {
     "name": "stdout",
     "output_type": "stream",
     "text": [
      "   frequency  terms\n",
      "0        134    red\n",
      "1        421  green\n",
      "2        245   blue\n"
     ]
    }
   ],
   "source": [
    "import koalas as kl\n",
    "wordframe = kl.WordFrame({'terms': ['red', 'green', 'blue'], 'frequency': [134, 421, 245]})\n",
    "print(wordframe)"
   ]
  },
  {
   "cell_type": "markdown",
   "metadata": {},
   "source": [
    "Koalas already recorded metadata, in this case the creation of the data. You can access the metadata through the `meta` attribute."
   ]
  },
  {
   "cell_type": "code",
   "execution_count": 2,
   "metadata": {},
   "outputs": [
    {
     "name": "stdout",
     "output_type": "stream",
     "text": [
      "{'frequency': \n",
      "  - created  (beyt on 2018/04/12 09:35:24)\n",
      ", 'terms': \n",
      "  - created  (beyt on 2018/04/12 09:35:24)\n",
      "}\n"
     ]
    }
   ],
   "source": [
    "print(wordframe.meta)"
   ]
  },
  {
   "cell_type": "markdown",
   "metadata": {},
   "source": [
    "Any operation transformed on a column is recorded and appended to the metadata..."
   ]
  },
  {
   "cell_type": "code",
   "execution_count": 3,
   "metadata": {},
   "outputs": [
    {
     "name": "stdout",
     "output_type": "stream",
     "text": [
      "   frequency  terms  relative frequency\n",
      "0        134    red             0.16750\n",
      "1        421  green             0.52625\n",
      "2        245   blue             0.30625\n"
     ]
    }
   ],
   "source": [
    "wordframe['relative frequency'] = wordframe['frequency'] / wordframe['frequency'].sum()\n",
    "wordframe.str.upper(on='terms')\n",
    "print(wordframe)"
   ]
  },
  {
   "cell_type": "markdown",
   "metadata": {},
   "source": [
    "...and can be inspected through `meta`."
   ]
  },
  {
   "cell_type": "code",
   "execution_count": 4,
   "metadata": {},
   "outputs": [
    {
     "data": {
      "text/plain": [
       "{'frequency': \n",
       "  - created  (beyt on 2018/04/12 09:35:24)\n",
       ",\n",
       " 'last modified': 'relative frequency',\n",
       " 'relative frequency': \n",
       "  - created  (beyt on 2018/04/12 09:35:24)\n",
       "  - divided by \"800\" (beyt on 2018/04/12 09:35:24)\n",
       ",\n",
       " 'terms': \n",
       "  - created  (beyt on 2018/04/12 09:35:24)\n",
       "}"
      ]
     },
     "execution_count": 4,
     "metadata": {},
     "output_type": "execute_result"
    }
   ],
   "source": [
    "wordframe.meta"
   ]
  },
  {
   "cell_type": "markdown",
   "metadata": {},
   "source": [
    "## Adding provenance information to a WordFrame\n",
    "Let's continue with the example of the first tutorial. We want to find out which of the candidate terms are brand names. Suppose we have a text file containing the names of car brands, one on each line. We can simply import it as a WordFrame."
   ]
  },
  {
   "cell_type": "code",
   "execution_count": 5,
   "metadata": {
    "scrolled": true
   },
   "outputs": [
    {
     "name": "stdout",
     "output_type": "stream",
     "text": [
      "                                  name\n",
      "0                               Abarth\n",
      "1                       Abbott-Detroit\n",
      "2                        AC Propulsion\n",
      "3                                Acura\n",
      "4                           Alfa Romeo\n",
      "5                               Alpina\n",
      "6                  Alpine (automobile)\n",
      "7    Alvis Car and Engineering Company\n",
      "8          American Motors Corporation\n",
      "9                              Amilcar\n",
      "10                               Amuza\n",
      "11                    Apollo Automobil\n",
      "12                 Ariel Motor Company\n",
      "13                                 ARO\n",
      "14                            Arrinera\n",
      "15                         Ascari Cars\n",
      "16                        Aston Martin\n",
      "17                                Audi\n",
      "18                    Automobile Dacia\n",
      "19                Automobiles Grégoire\n",
      "20             Automobiles René Bonnet\n",
      "21               Automotive Industries\n",
      "22                           Auverland\n",
      "23                       Avions Voisin\n",
      "24                 Ballot (automobile)\n",
      "25                                 BAW\n",
      "26                    Bedford Vehicles\n",
      "27                             Bentley\n",
      "28                 Bignan (automobile)\n",
      "29                         Bitter Cars\n",
      "..                                 ...\n",
      "115                           Prodrive\n",
      "116                       Proto Motors\n",
      "117                    PROTON Holdings\n",
      "118                         PSA Bronto\n",
      "119                         Ram Trucks\n",
      "120                            Renault\n",
      "121                              Roewe\n",
      "122             Rolls-Royce Motor Cars\n",
      "123                    Saab Automobile\n",
      "124                               SEAT\n",
      "125                         Škoda Auto\n",
      "126                     Smart (marque)\n",
      "127                        Spyker Cars\n",
      "128                    SsangYong Motor\n",
      "129                  SSC North America\n",
      "130                         Studebaker\n",
      "131                             Subaru\n",
      "132                             Suzuki\n",
      "133                        Tata Motors\n",
      "134                              Tesla\n",
      "135                          Toroidion\n",
      "136                             Toyota\n",
      "137                                UAZ\n",
      "138                      Ultima Sports\n",
      "139                    Vauxhall Motors\n",
      "140                      Vector Motors\n",
      "141                Venturi Automobiles\n",
      "142                         Volkswagen\n",
      "143                              Volvo\n",
      "144                Zhiguli (car brand)\n",
      "\n",
      "[145 rows x 1 columns]\n"
     ]
    }
   ],
   "source": [
    "carbrands = kl.read_csv('data/carbrands.csv')\n",
    "print(carbrands)"
   ]
  },
  {
   "cell_type": "markdown",
   "metadata": {},
   "source": [
    "If we plan to frequently reuse this list as a reference it is a good idea to add metadata to it. Koalas automatically creates a metadata entry if we import a csv file. You can see any time by calling the `meta` attribute."
   ]
  },
  {
   "cell_type": "code",
   "execution_count": 6,
   "metadata": {},
   "outputs": [
    {
     "data": {
      "text/plain": [
       "{'name': \n",
       "  - from file \"data/carbrands.csv\" (beyt on 2018/04/12 09:35:24)\n",
       "}"
      ]
     },
     "execution_count": 6,
     "metadata": {},
     "output_type": "execute_result"
    }
   ],
   "source": [
    "carbrands.meta"
   ]
  },
  {
   "cell_type": "markdown",
   "metadata": {},
   "source": [
    "Unfortunately this is very basic, Koalas does not know more about the content of the file, its source, nor its intended use. If you have this information, however, you can add to the WordFrame. Supply a dictionary with metadata and provenance information to the parameter `provenance` of the `read_csv` function."
   ]
  },
  {
   "cell_type": "code",
   "execution_count": 7,
   "metadata": {},
   "outputs": [],
   "source": [
    "provenance = {'source': 'Wikipedia',\n",
    "              'link': 'https://en.wikipedia.org/wiki/Category:Car_brands',\n",
    "              'description': 'A non-exhaustive list of car brand names.',\n",
    "              'version': 'revision from 20:37, 18 February 2018'}\n",
    "carbrands_with_provenance = kl.read_csv('carbrands.csv', provenance=provenance)"
   ]
  },
  {
   "cell_type": "markdown",
   "metadata": {},
   "source": [
    "Inspecting the `meta` attribute now you see the added metadata in addition to the user that opened the file and a timestamp."
   ]
  },
  {
   "cell_type": "code",
   "execution_count": 8,
   "metadata": {},
   "outputs": [
    {
     "name": "stdout",
     "output_type": "stream",
     "text": [
      "{'name': \n",
      "  - external source \"{'source': 'Wikipedia', 'link': 'https://en.wikipedia.\n",
      "    org/wiki/Category:Car_brands', 'description': 'A non-exhaustive list of car \n",
      "    brand names.', 'version': 'revision from 20:37, 18 February 2018'}\" (beyt on \n",
      "    2018/04/12 09:35:24)\n",
      "}\n"
     ]
    }
   ],
   "source": [
    "print(carbrands_with_provenance.meta)"
   ]
  },
  {
   "cell_type": "markdown",
   "metadata": {},
   "source": [
    "This additional information can not be stored easily in a csv file along the actual data. Instead we can save the WordFrame as a JSON file which preseves all information."
   ]
  },
  {
   "cell_type": "code",
   "execution_count": 9,
   "metadata": {},
   "outputs": [],
   "source": [
    "carbrands_with_provenance.to_json('data/carbrands.json')"
   ]
  },
  {
   "cell_type": "markdown",
   "metadata": {},
   "source": [
    "Opening this file again with the `read_json` function retrieves the exact same information."
   ]
  },
  {
   "cell_type": "code",
   "execution_count": 10,
   "metadata": {},
   "outputs": [
    {
     "name": "stdout",
     "output_type": "stream",
     "text": [
      "{'name': \n",
      "  - external source \"{'source': 'Wikipedia', 'link': 'https://en.wikipedia.\n",
      "    org/wiki/Category:Car_brands', 'description': 'A non-exhaustive list of car \n",
      "    brand names.', 'version': 'revision from 20:37, 18 February 2018'}\" (beyt on \n",
      "    2018/04/12 09:35:24)\n",
      "}\n"
     ]
    }
   ],
   "source": [
    "newWordFrame = kl.read_json('data/carbrands.json')\n",
    "print(newWordFrame.meta)"
   ]
  },
  {
   "cell_type": "markdown",
   "metadata": {},
   "source": [
    "And any operation performed on the WordFrame leaves a trace on the WordFrame as seen in the section above."
   ]
  },
  {
   "cell_type": "code",
   "execution_count": 11,
   "metadata": {},
   "outputs": [
    {
     "name": "stdout",
     "output_type": "stream",
     "text": [
      "{'name': \n",
      "  - external source \"{'source': 'Wikipedia', 'link': 'https://en.wikipedia.\n",
      "    org/wiki/Category:Car_brands', 'description': 'A non-exhaustive list of car \n",
      "    brand names.', 'version': 'revision from 20:37, 18 February 2018'}\" (beyt on \n",
      "    2018/04/12 09:35:24)\n",
      ", 'normalized name': \n",
      "  - external source \"{'source': 'Wikipedia', 'link': 'https://en.wikipedia.\n",
      "    org/wiki/Category:Car_brands', 'description': 'A non-exhaustive list of car \n",
      "    brand names.', 'version': 'revision from 20:37, 18 February 2018'}\" (beyt on \n",
      "    2018/04/12 09:35:24)\n",
      "  - removed qualifier  (beyt on 2018/04/12 09:35:24)\n",
      "  - lower  (beyt on 2018/04/12 09:35:24)\n",
      ", 'last modified': 'normalized name'}\n"
     ]
    }
   ],
   "source": [
    "newWordFrame = newWordFrame.remove_qualifiers(on='name', to='normalized name').str.lower()\n",
    "print(newWordFrame.meta)"
   ]
  },
  {
   "cell_type": "code",
   "execution_count": 12,
   "metadata": {},
   "outputs": [
    {
     "name": "stdout",
     "output_type": "stream",
     "text": [
      "                    name      normalized name\n",
      "0                 Abarth               abarth\n",
      "1         Abbott-Detroit       abbott-detroit\n",
      "10                 Amuza                amuza\n",
      "100                Mazda                mazda\n",
      "101  Mazzanti Automobili  mazzanti automobili\n"
     ]
    }
   ],
   "source": [
    "print(newWordFrame.head())"
   ]
  }
 ],
 "metadata": {
  "kernelspec": {
   "display_name": "Python 3",
   "language": "python",
   "name": "python3"
  },
  "language_info": {
   "codemirror_mode": {
    "name": "ipython",
    "version": 3
   },
   "file_extension": ".py",
   "mimetype": "text/x-python",
   "name": "python",
   "nbconvert_exporter": "python",
   "pygments_lexer": "ipython3",
   "version": "3.6.4"
  }
 },
 "nbformat": 4,
 "nbformat_minor": 2
}
