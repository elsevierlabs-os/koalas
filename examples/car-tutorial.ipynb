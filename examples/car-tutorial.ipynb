{
 "cells": [
  {
   "cell_type": "markdown",
   "metadata": {},
   "source": [
    "# Tutorial to Koalas - First steps"
   ]
  },
  {
   "cell_type": "markdown",
   "metadata": {},
   "source": [
    "First we import koalas under the abbreviation kl:"
   ]
  },
  {
   "cell_type": "code",
   "execution_count": 1,
   "metadata": {},
   "outputs": [],
   "source": [
    "import koalas as kl"
   ]
  },
  {
   "cell_type": "markdown",
   "metadata": {},
   "source": [
    "## Creation of WordLists and simple manipulation of terms\n",
    "We can create list of words to be used with Koalas by passing a list of strings into the WordList constructor."
   ]
  },
  {
   "cell_type": "code",
   "execution_count": 2,
   "metadata": {},
   "outputs": [
    {
     "name": "stdout",
     "output_type": "stream",
     "text": [
      "0            Red automobile\n",
      "1                   Citroën\n",
      "2    Car industry in Europe\n",
      "3              blue vehicle\n",
      "4      piston (engine part)\n",
      "5                  gasoline\n",
      "Name: car terms, dtype: object\n"
     ]
    }
   ],
   "source": [
    "terms = kl.WordList(['Red automobile', 'Citroën', 'Car industry in Europe',\n",
    "                     'blue vehicle', 'piston (engine part)', 'gasoline'], name='car terms')\n",
    "print(terms)"
   ]
  },
  {
   "cell_type": "markdown",
   "metadata": {},
   "source": [
    "Now we can use standard Pandas methods like `str.lower()` or operators to manipulate the terms."
   ]
  },
  {
   "cell_type": "code",
   "execution_count": 3,
   "metadata": {},
   "outputs": [
    {
     "name": "stdout",
     "output_type": "stream",
     "text": [
      "0            red automobile\n",
      "1                   citroën\n",
      "2    car industry in europe\n",
      "3              blue vehicle\n",
      "4      piston (engine part)\n",
      "5                  gasoline\n",
      "Name: car terms, dtype: object\n"
     ]
    }
   ],
   "source": [
    "print(terms.str.lower())"
   ]
  },
  {
   "cell_type": "code",
   "execution_count": 4,
   "metadata": {},
   "outputs": [
    {
     "name": "stdout",
     "output_type": "stream",
     "text": [
      "0            Red automobile (car related term)\n",
      "1                   Citroën (car related term)\n",
      "2    Car industry in Europe (car related term)\n",
      "3              blue vehicle (car related term)\n",
      "4      piston (engine part) (car related term)\n",
      "5                  gasoline (car related term)\n",
      "Name: car terms, dtype: object\n"
     ]
    }
   ],
   "source": [
    "print(terms + ' (car related term)')"
   ]
  },
  {
   "cell_type": "markdown",
   "metadata": {},
   "source": [
    "Additionally Koalas contains more advanced methods to operate on lists of term."
   ]
  },
  {
   "cell_type": "code",
   "execution_count": 5,
   "metadata": {},
   "outputs": [
    {
     "name": "stdout",
     "output_type": "stream",
     "text": [
      "0            Red automobile\n",
      "1                   Citroën\n",
      "2    Car industry in Europe\n",
      "3              blue vehicle\n",
      "4                   piston \n",
      "5                  gasoline\n",
      "Name: car terms, dtype: object\n"
     ]
    }
   ],
   "source": [
    "print(terms.remove_qualifiers())"
   ]
  },
  {
   "cell_type": "code",
   "execution_count": 6,
   "metadata": {},
   "outputs": [
    {
     "name": "stdout",
     "output_type": "stream",
     "text": [
      "0            red automobil\n",
      "1                  citroën\n",
      "2    car industri in europ\n",
      "3              blue vehicl\n",
      "4      piston (engin part)\n",
      "5                  gasolin\n",
      "Name: car terms, dtype: object\n"
     ]
    }
   ],
   "source": [
    "print(terms.stem())"
   ]
  },
  {
   "cell_type": "markdown",
   "metadata": {},
   "source": [
    "## WordFrames for more elaborate workflows\n",
    "In order to group the results of different operations and analyses together Koalas offers the class WordFrame. You can initialize a WordFrame by passing it a WordList. The list of words basically becomes a column in a table. In this case the WordFrame only contains a single column so far (but note the column header)."
   ]
  },
  {
   "cell_type": "code",
   "execution_count": 7,
   "metadata": {},
   "outputs": [
    {
     "name": "stdout",
     "output_type": "stream",
     "text": [
      "                car terms\n",
      "0          Red automobile\n",
      "1                 Citroën\n",
      "2  Car industry in Europe\n",
      "3            blue vehicle\n",
      "4    piston (engine part)\n",
      "5                gasoline\n"
     ]
    }
   ],
   "source": [
    "ctflow = kl.WordFrame(terms)\n",
    "print(ctflow)"
   ]
  },
  {
   "cell_type": "markdown",
   "metadata": {},
   "source": [
    "In contrast to Pandas, any method that can be called on a WordList can also be called on a WordFrame.  By default this method is applied to the column that was last modified (or the last column in the WordFrame if none has been modified so far)."
   ]
  },
  {
   "cell_type": "code",
   "execution_count": 8,
   "metadata": {},
   "outputs": [
    {
     "name": "stdout",
     "output_type": "stream",
     "text": [
      "                car terms\n",
      "0          red automobile\n",
      "1                 citroën\n",
      "2  car industry in europe\n",
      "3            blue vehicle\n",
      "4    piston (engine part)\n",
      "5                gasoline\n"
     ]
    }
   ],
   "source": [
    "print(ctflow.str.lower())"
   ]
  },
  {
   "cell_type": "markdown",
   "metadata": {},
   "source": [
    "Additionally, the argument `to` can be passed to any method to specify another column in which to store the results. The source column stays unmodified."
   ]
  },
  {
   "cell_type": "code",
   "execution_count": 9,
   "metadata": {},
   "outputs": [
    {
     "name": "stdout",
     "output_type": "stream",
     "text": [
      "                car terms              lower case\n",
      "0          Red automobile          red automobile\n",
      "1                 Citroën                 citroën\n",
      "2  Car industry in Europe  car industry in europe\n",
      "3            blue vehicle            blue vehicle\n",
      "4    piston (engine part)    piston (engine part)\n",
      "5                gasoline                gasoline\n"
     ]
    }
   ],
   "source": [
    "print(ctflow.str.lower(to='lower case'))"
   ]
  },
  {
   "cell_type": "markdown",
   "metadata": {},
   "source": [
    "Similarly with the parameter `on` the source column can be specified."
   ]
  },
  {
   "cell_type": "code",
   "execution_count": 10,
   "metadata": {},
   "outputs": [
    {
     "name": "stdout",
     "output_type": "stream",
     "text": [
      "                car terms              lower case  contains \"red\"\n",
      "0          Red automobile          red automobile            True\n",
      "1                 Citroën                 citroën           False\n",
      "2  Car industry in Europe  car industry in europe           False\n",
      "3            blue vehicle            blue vehicle           False\n",
      "4    piston (engine part)    piston (engine part)           False\n",
      "5                gasoline                gasoline           False\n"
     ]
    }
   ],
   "source": [
    "print(ctflow.str.lower(to='lower case').str.contains('red', to='contains \"red\"'))"
   ]
  },
  {
   "cell_type": "code",
   "execution_count": 11,
   "metadata": {},
   "outputs": [
    {
     "name": "stdout",
     "output_type": "stream",
     "text": [
      "                car terms              lower case  contains \"red\"\n",
      "0          Red automobile          red automobile           False\n",
      "1                 Citroën                 citroën           False\n",
      "2  Car industry in Europe  car industry in europe           False\n",
      "3            blue vehicle            blue vehicle           False\n",
      "4    piston (engine part)    piston (engine part)           False\n",
      "5                gasoline                gasoline           False\n"
     ]
    }
   ],
   "source": [
    "print(ctflow.str.lower(to='lower case').str.contains('red', on='car terms', to='contains \"red\"'))"
   ]
  },
  {
   "cell_type": "markdown",
   "metadata": {},
   "source": [
    "This allows chaining together of entire workflows, which can be formatted in a readable way."
   ]
  },
  {
   "cell_type": "code",
   "execution_count": 12,
   "metadata": {},
   "outputs": [
    {
     "name": "stdout",
     "output_type": "stream",
     "text": [
      "                car terms  string length  number of words  \\\n",
      "0          Red automobile             14                2   \n",
      "1                 Citroën              7                1   \n",
      "2  Car industry in Europe             22                4   \n",
      "3            blue vehicle             12                2   \n",
      "4    piston (engine part)             20                3   \n",
      "5                gasoline              8                1   \n",
      "\n",
      "               lower case  contains \"red\"  \n",
      "0          red automobile            True  \n",
      "1                 citroën           False  \n",
      "2  car industry in europe           False  \n",
      "3            blue vehicle           False  \n",
      "4    piston (engine part)           False  \n",
      "5                gasoline           False  \n"
     ]
    }
   ],
   "source": [
    "print(ctflow.str.len(to='string length')\n",
    "            .word_number(on='car terms', to='number of words')\n",
    "            .str.lower(on='car terms', to='lower case')\n",
    "            .str.contains('red', to='contains \"red\"'))"
   ]
  },
  {
   "cell_type": "markdown",
   "metadata": {},
   "source": [
    "## Advanced processing and filtering\n",
    "So far we have looked relatively simple string methods. Additionally Koalas supports a range of word related methods, more can easily be added. Let's assume we want to process our initial example a bit further. We can define some knowledge in form of lists."
   ]
  },
  {
   "cell_type": "code",
   "execution_count": 13,
   "metadata": {},
   "outputs": [],
   "source": [
    "colors = ['blue', 'green', 'yellow', 'red']\n",
    "continents = ['Europe', 'Africa', 'Asia', 'America', 'Australia']\n",
    "synonyms = {'car': 'automobile', 'vehicle': 'automobile', 'motor': 'engine'}"
   ]
  },
  {
   "cell_type": "code",
   "execution_count": 14,
   "metadata": {},
   "outputs": [
    {
     "name": "stdout",
     "output_type": "stream",
     "text": [
      "                car terms          processed term  contains geoname\n",
      "0          Red automobile              automobile             False\n",
      "1                 Citroën                 citroën             False\n",
      "2  Car industry in Europe  car industry in europe              True\n",
      "3            blue vehicle                 vehicle             False\n",
      "4    piston (engine part)    piston (engine part)             False\n",
      "5                gasoline                gasoline             False\n"
     ]
    }
   ],
   "source": [
    "print(ctflow.str.lower(to='processed term')\n",
    "            .remove_words(colors)\n",
    "            .word_isin(continents, on='car terms', to='contains geoname'))"
   ]
  },
  {
   "cell_type": "markdown",
   "metadata": {},
   "source": [
    "And like this we can continue, moreover, we can deduplicate and filter the result."
   ]
  },
  {
   "cell_type": "code",
   "execution_count": 15,
   "metadata": {},
   "outputs": [
    {
     "name": "stdout",
     "output_type": "stream",
     "text": [
      "              car terms  contains geoname        processed term       POS tag\n",
      "0        Red automobile             False            automobile          [NN]\n",
      "1               Citroën             False               citroën          [NN]\n",
      "4  piston (engine part)             False  piston (engine part)  [NN, NN, NN]\n",
      "5              gasoline             False              gasoline          [NN]\n"
     ]
    }
   ],
   "source": [
    "filtered_candidates = (ctflow.word_isin(continents, to='contains geoname')\n",
    "                             .str.lower(on='car terms', to='processed term')\n",
    "                             .remove_words(colors)\n",
    "                             .replace_words(synonyms)\n",
    "                             .deduplicate()\n",
    "                             .pos_tag(to='POS tag')\n",
    "                             .filter(on='contains geoname', where='==False')\n",
    "                      )\n",
    "print(filtered_candidates)"
   ]
  },
  {
   "cell_type": "markdown",
   "metadata": {},
   "source": [
    "And finally we can save the result as a csv file."
   ]
  },
  {
   "cell_type": "code",
   "execution_count": 16,
   "metadata": {},
   "outputs": [],
   "source": [
    "filtered_candidates.to_csv('data/filtered_candidates.csv')"
   ]
  }
 ],
 "metadata": {
  "kernelspec": {
   "display_name": "Python 3",
   "language": "python",
   "name": "python3"
  },
  "language_info": {
   "codemirror_mode": {
    "name": "ipython",
    "version": 3
   },
   "file_extension": ".py",
   "mimetype": "text/x-python",
   "name": "python",
   "nbconvert_exporter": "python",
   "pygments_lexer": "ipython3",
   "version": "3.6.4"
  }
 },
 "nbformat": 4,
 "nbformat_minor": 2
}
