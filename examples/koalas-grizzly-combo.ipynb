{
 "cells": [
  {
   "cell_type": "code",
   "execution_count": null,
   "metadata": {
    "vscode": {
     "languageId": "plaintext"
    }
   },
   "outputs": [],
   "source": [
    "import grizzly"
   ]
  },
  {
   "cell_type": "code",
   "execution_count": null,
   "metadata": {
    "vscode": {
     "languageId": "plaintext"
    }
   },
   "outputs": [],
   "source": [
    "index_graph = gz.Graph(triples, prefixes=index_prefixes)\n",
    "\n",
    "graph = (index_graph\n",
    "            .where('''?index a ce:index .\n",
    "                    ?entry dct:isPartOf ?index .\n",
    "                    ?entry ce:index-heading ?label .''')\n",
    "            .to_koalas()\n",
    "            .str.replace(',$', '', on='label', to='normalized')\n",
    "            .remove_qualifiers()\n",
    "            .replace_typographic_forms()\n",
    "            .normalize()\n",
    "            .lemmatize()\n",
    "            .filter(on='normalized', where='!=\"\"')\n",
    "            .filter(on='normalized', where='!=\"http\"')\n",
    "            .apply(lambda x: 'indextract:' + x, on='normalized', to='url')\n",
    "            .str.replace(' ', '_')\n",
    "            .to_grizzly(prefixes=index_prefixes)\n",
    "            .construct('''?url a example:Term .\n",
    "                        ?url example:normalized ?normalized.\n",
    "                        ?url example:source ?entry .''')\n",
    "        )"
   ]
  }
 ],
 "metadata": {
  "language_info": {
   "name": "python"
  }
 },
 "nbformat": 4,
 "nbformat_minor": 2
}
